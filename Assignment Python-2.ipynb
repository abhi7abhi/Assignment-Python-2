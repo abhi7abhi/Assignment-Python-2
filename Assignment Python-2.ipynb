{
 "cells": [
  {
   "cell_type": "code",
   "execution_count": 1,
   "id": "65d253cf-21b8-430d-861d-e0199338d01d",
   "metadata": {},
   "outputs": [
    {
     "name": "stdin",
     "output_type": "stream",
     "text": [
      "Enter the value of n:  5\n"
     ]
    },
    {
     "name": "stdout",
     "output_type": "stream",
     "text": [
      "1 2 3 4 5 \n",
      "2 4 6 8 10 \n",
      "3 6 9 12 15 \n",
      "4 8 12 16 20 \n",
      "5 10 15 20 25 \n"
     ]
    }
   ],
   "source": [
    "n = int(input(\"Enter the value of n: \"))\n",
    "for i in range(1, n+1):\n",
    "    for j in range(1, n+1):\n",
    "        print(i * j, end=\" \")\n",
    "    print()"
   ]
  },
  {
   "cell_type": "code",
   "execution_count": 3,
   "id": "0968088a-c655-42f6-884a-399d936e5e75",
   "metadata": {},
   "outputs": [
    {
     "name": "stdin",
     "output_type": "stream",
     "text": [
      "no. of rows 5\n"
     ]
    },
    {
     "name": "stdout",
     "output_type": "stream",
     "text": [
      "1 \n",
      "2 2 \n",
      "3 3 3 \n",
      "4 4 4 4 \n",
      "5 5 5 5 5 \n"
     ]
    }
   ],
   "source": [
    "n=int(input(\"no. of rows\"))\n",
    "for i in range(1,n+1):\n",
    "    for j in range(1,i+1):\n",
    "        print(i,end=\" \")\n",
    "    print()"
   ]
  },
  {
   "cell_type": "code",
   "execution_count": 5,
   "id": "ea17737d-b053-4a36-a11f-b4e9197d8214",
   "metadata": {},
   "outputs": [
    {
     "name": "stdin",
     "output_type": "stream",
     "text": [
      "no. of rows 5\n"
     ]
    },
    {
     "name": "stdout",
     "output_type": "stream",
     "text": [
      "1 \n",
      "1 2 \n",
      "1 2 3 \n",
      "1 2 3 4 \n",
      "1 2 3 4 5 \n"
     ]
    }
   ],
   "source": [
    "n=int(input(\"no. of rows\"))\n",
    "for i in range(1,n+1):\n",
    "    for j in range(1,i+1):\n",
    "        print(j,end=\" \")\n",
    "    print()"
   ]
  },
  {
   "cell_type": "code",
   "execution_count": 7,
   "id": "f54fabe2-0985-4f57-8fb8-5ab90be05edb",
   "metadata": {},
   "outputs": [
    {
     "name": "stdin",
     "output_type": "stream",
     "text": [
      "no. of rows 5\n"
     ]
    },
    {
     "name": "stdout",
     "output_type": "stream",
     "text": [
      "* * * * * \n",
      "* * * * \n",
      "* * * \n",
      "* * \n",
      "* \n"
     ]
    }
   ],
   "source": [
    "n=int(input(\"no. of rows\"))\n",
    "for i in range(n):\n",
    "    for j in range(i,n):\n",
    "        print(\"*\",end=\" \")\n",
    "    print()"
   ]
  },
  {
   "cell_type": "code",
   "execution_count": 9,
   "id": "38139587-7b83-4f76-b57d-661a7be9781a",
   "metadata": {},
   "outputs": [
    {
     "name": "stdin",
     "output_type": "stream",
     "text": [
      "no. of rows 5\n"
     ]
    },
    {
     "name": "stdout",
     "output_type": "stream",
     "text": [
      "* \n",
      "* * \n",
      "* * * \n",
      "* * * * \n",
      "* * * * * \n"
     ]
    }
   ],
   "source": [
    "n=int(input(\"no. of rows\"))\n",
    "for i in range(n):\n",
    "    for j in range(i+1):\n",
    "        print(\"*\",end=\" \")\n",
    "    print()"
   ]
  },
  {
   "cell_type": "code",
   "execution_count": 15,
   "id": "b7dfa5d8-0645-4013-bb7a-0ece032ef030",
   "metadata": {},
   "outputs": [
    {
     "name": "stdin",
     "output_type": "stream",
     "text": [
      " 4\n"
     ]
    },
    {
     "name": "stdout",
     "output_type": "stream",
     "text": [
      "6\n"
     ]
    }
   ],
   "source": [
    "n = int(input())\n",
    "sum = 0\n",
    "for i in range(2, n+1,2):\n",
    "    sum += i\n",
    "print(sum) #1"
   ]
  },
  {
   "cell_type": "code",
   "execution_count": 17,
   "id": "735a8866-d7fa-4208-bc0b-4fc20494e466",
   "metadata": {},
   "outputs": [
    {
     "name": "stdin",
     "output_type": "stream",
     "text": [
      "Enter the value of n:  5\n"
     ]
    },
    {
     "name": "stdout",
     "output_type": "stream",
     "text": [
      "1 2 3 4 5 \n",
      "6 7 8 9 10 \n",
      "11 12 13 14 15 \n",
      "16 17 18 19 20 \n",
      "21 22 23 24 25 \n"
     ]
    }
   ],
   "source": [
    "n = int(input(\"Enter the value of n: \"))\n",
    "num = 1\n",
    "for i in range(n):\n",
    "    for j in range(n):\n",
    "        print(num, end=\" \")\n",
    "        num += 1\n",
    "    print()"
   ]
  },
  {
   "cell_type": "code",
   "execution_count": 21,
   "id": "099964b5-2c79-41d5-9318-e6f0ef54c400",
   "metadata": {},
   "outputs": [
    {
     "name": "stdin",
     "output_type": "stream",
     "text": [
      "Enter the value of n:  6\n"
     ]
    },
    {
     "name": "stdout",
     "output_type": "stream",
     "text": [
      "1 2 3 4 5 6 \n",
      "2 4 6 8 10 12 \n",
      "3 6 9 12 15 18 \n",
      "4 8 12 16 20 24 \n",
      "5 10 15 20 25 30 \n",
      "6 12 18 24 30 36 \n"
     ]
    }
   ],
   "source": [
    "n = int(input(\"Enter the value of n: \"))\n",
    "for i in range(1, n+1):\n",
    "    for j in range(1, n+1):\n",
    "        print(i * j, end=\" \")\n",
    "    print()"
   ]
  },
  {
   "cell_type": "code",
   "execution_count": 27,
   "id": "12e9c8a8-02b8-4cc4-9d29-9f6268356a97",
   "metadata": {},
   "outputs": [
    {
     "name": "stdout",
     "output_type": "stream",
     "text": [
      "  1   2   3   4   5   6   7   8   9  10 \n",
      "  2   4   6   8  10  12  14  16  18  20 \n",
      "  3   6   9  12  15  18  21  24  27  30 \n",
      "  4   8  12  16  20  24  28  32  36  40 \n",
      "  5  10  15  20  25  30  35  40  45  50 \n",
      "  6  12  18  24  30  36  42  48  54  60 \n",
      "  7  14  21  28  35  42  49  56  63  70 \n",
      "  8  16  24  32  40  48  56  64  72  80 \n",
      "  9  18  27  36  45  54  63  72  81  90 \n",
      " 10  20  30  40  50  60  70  80  90 100 \n"
     ]
    }
   ],
   "source": [
    "for i in range(1,10+1):\n",
    "    for j in range(1,10+1):\n",
    "        print(f\"{i * j:3}\", end=\" \")\n",
    "    print()"
   ]
  },
  {
   "cell_type": "code",
   "execution_count": 29,
   "id": "6c48dd2d-3cfb-4d47-8173-d9ed52bd98c1",
   "metadata": {},
   "outputs": [
    {
     "name": "stdin",
     "output_type": "stream",
     "text": [
      " Abhinav Abhilash\n"
     ]
    },
    {
     "name": "stdout",
     "output_type": "stream",
     "text": [
      "A: 2\n",
      "b: 2\n",
      "h: 3\n",
      "i: 2\n",
      "n: 1\n",
      "a: 2\n",
      "v: 1\n",
      " : 1\n",
      "l: 1\n",
      "s: 1\n"
     ]
    }
   ],
   "source": [
    "string = input()\n",
    "char_frequency = {}\n",
    "for char in string:\n",
    "    if char in char_frequency:\n",
    "        char_frequency[char] += 1\n",
    "    else:\n",
    "        char_frequency[char] = 1\n",
    "for char, freq in char_frequency.items():\n",
    "    print(f\"{char}: {freq}\")"
   ]
  },
  {
   "cell_type": "code",
   "execution_count": 31,
   "id": "1efc6747-f6d1-4d1a-8158-fa4dfcd24c31",
   "metadata": {},
   "outputs": [
    {
     "name": "stdin",
     "output_type": "stream",
     "text": [
      " Abhinav Abhilash\n"
     ]
    },
    {
     "name": "stdout",
     "output_type": "stream",
     "text": [
      "A\n",
      "Ab\n",
      "Abh\n",
      "Abhi\n",
      "Abhin\n",
      "Abhina\n",
      "Abhinav\n",
      "Abhinav \n",
      "Abhinav A\n",
      "Abhinav Ab\n",
      "Abhinav Abh\n",
      "Abhinav Abhi\n",
      "Abhinav Abhil\n",
      "Abhinav Abhila\n",
      "Abhinav Abhilas\n",
      "Abhinav Abhilash\n",
      "b\n",
      "bh\n",
      "bhi\n",
      "bhin\n",
      "bhina\n",
      "bhinav\n",
      "bhinav \n",
      "bhinav A\n",
      "bhinav Ab\n",
      "bhinav Abh\n",
      "bhinav Abhi\n",
      "bhinav Abhil\n",
      "bhinav Abhila\n",
      "bhinav Abhilas\n",
      "bhinav Abhilash\n",
      "h\n",
      "hi\n",
      "hin\n",
      "hina\n",
      "hinav\n",
      "hinav \n",
      "hinav A\n",
      "hinav Ab\n",
      "hinav Abh\n",
      "hinav Abhi\n",
      "hinav Abhil\n",
      "hinav Abhila\n",
      "hinav Abhilas\n",
      "hinav Abhilash\n",
      "i\n",
      "in\n",
      "ina\n",
      "inav\n",
      "inav \n",
      "inav A\n",
      "inav Ab\n",
      "inav Abh\n",
      "inav Abhi\n",
      "inav Abhil\n",
      "inav Abhila\n",
      "inav Abhilas\n",
      "inav Abhilash\n",
      "n\n",
      "na\n",
      "nav\n",
      "nav \n",
      "nav A\n",
      "nav Ab\n",
      "nav Abh\n",
      "nav Abhi\n",
      "nav Abhil\n",
      "nav Abhila\n",
      "nav Abhilas\n",
      "nav Abhilash\n",
      "a\n",
      "av\n",
      "av \n",
      "av A\n",
      "av Ab\n",
      "av Abh\n",
      "av Abhi\n",
      "av Abhil\n",
      "av Abhila\n",
      "av Abhilas\n",
      "av Abhilash\n",
      "v\n",
      "v \n",
      "v A\n",
      "v Ab\n",
      "v Abh\n",
      "v Abhi\n",
      "v Abhil\n",
      "v Abhila\n",
      "v Abhilas\n",
      "v Abhilash\n",
      " \n",
      " A\n",
      " Ab\n",
      " Abh\n",
      " Abhi\n",
      " Abhil\n",
      " Abhila\n",
      " Abhilas\n",
      " Abhilash\n",
      "A\n",
      "Ab\n",
      "Abh\n",
      "Abhi\n",
      "Abhil\n",
      "Abhila\n",
      "Abhilas\n",
      "Abhilash\n",
      "b\n",
      "bh\n",
      "bhi\n",
      "bhil\n",
      "bhila\n",
      "bhilas\n",
      "bhilash\n",
      "h\n",
      "hi\n",
      "hil\n",
      "hila\n",
      "hilas\n",
      "hilash\n",
      "i\n",
      "il\n",
      "ila\n",
      "ilas\n",
      "ilash\n",
      "l\n",
      "la\n",
      "las\n",
      "lash\n",
      "a\n",
      "as\n",
      "ash\n",
      "s\n",
      "sh\n",
      "h\n"
     ]
    }
   ],
   "source": [
    "string = input()\n",
    "for i in range(len(string)):\n",
    "    for j in range(i + 1, len(string) + 1):\n",
    "        print(string[i:j])"
   ]
  },
  {
   "cell_type": "code",
   "execution_count": 33,
   "id": "707e6a36-e993-4916-a767-dc0012de77cd",
   "metadata": {},
   "outputs": [
    {
     "name": "stdin",
     "output_type": "stream",
     "text": [
      " Abhinav Abhilash\n"
     ]
    },
    {
     "name": "stdout",
     "output_type": "stream",
     "text": [
      "hsalihbA vanihbA\n"
     ]
    }
   ],
   "source": [
    "string = input()\n",
    "reversed_string = \"\"\n",
    "for char in string: \n",
    "    reversed_string = char + reversed_string\n",
    "print(reversed_string)"
   ]
  },
  {
   "cell_type": "code",
   "execution_count": 35,
   "id": "daab7b9c-c786-4236-ba54-edc81e0c08d3",
   "metadata": {},
   "outputs": [
    {
     "name": "stdin",
     "output_type": "stream",
     "text": [
      " Abhinav\n"
     ]
    },
    {
     "name": "stdout",
     "output_type": "stream",
     "text": [
      "3\n"
     ]
    }
   ],
   "source": [
    "string = input()\n",
    "vowels = \"aeiouAEIOU\"\n",
    "count = 0\n",
    "for char in string:\n",
    "    if char in vowels:\n",
    "        count += 1\n",
    "print(count)"
   ]
  },
  {
   "cell_type": "code",
   "execution_count": 37,
   "id": "b4fd80f8-7907-4d8e-9b98-db15a89109ed",
   "metadata": {},
   "outputs": [
    {
     "name": "stdin",
     "output_type": "stream",
     "text": [
      " 6\n"
     ]
    },
    {
     "name": "stdout",
     "output_type": "stream",
     "text": [
      "2\n",
      "3\n",
      "5\n"
     ]
    }
   ],
   "source": [
    "n = int(input())\n",
    "for num in range(2, n + 1):\n",
    "    is_prime = True\n",
    "    for i in range(2, int(num ** 0.5) + 1):\n",
    "        if num % i == 0:\n",
    "            is_prime = False\n",
    "            break\n",
    "    if is_prime:\n",
    "        print(num)"
   ]
  },
  {
   "cell_type": "code",
   "execution_count": 39,
   "id": "2c214dc9-edca-4a81-ba44-6d1d846ad2cb",
   "metadata": {},
   "outputs": [
    {
     "name": "stdout",
     "output_type": "stream",
     "text": [
      "* * * * * \n",
      "*       * \n",
      "*       * \n",
      "*       * \n",
      "* * * * * \n"
     ]
    }
   ],
   "source": [
    "n = 5\n",
    "for i in range(1,n+1):\n",
    "    for j in range(1,n+1):\n",
    "        if (i==1 or i==n or j==1 or j==n):\n",
    "            print(\"*\", end = \" \")\n",
    "        else :\n",
    "            print(\" \", end = \" \")\n",
    "    print()"
   ]
  },
  {
   "cell_type": "code",
   "execution_count": 98,
   "id": "80ef594f-d035-4a51-9871-27c4de212bbd",
   "metadata": {},
   "outputs": [
    {
     "name": "stdout",
     "output_type": "stream",
     "text": [
      "  *\n",
      " ***\n",
      "*****\n",
      " ***\n",
      "  *\n"
     ]
    }
   ],
   "source": [
    "n = 3\n",
    "for i in range(1, n + 1):  \n",
    "    for j in range(n - i):\n",
    "        print(\" \", end=\"\")\n",
    "    for j in range(2 * i - 1):\n",
    "        print(\"*\", end=\"\")\n",
    "    print()\n",
    "for i in range(n - 1, 0, -1):  \n",
    "    for j in range(n - i):\n",
    "        print(\" \", end=\"\")\n",
    "    for j in range(2 * i - 1):\n",
    "        print(\"*\", end=\"\")\n",
    "    print()\n"
   ]
  },
  {
   "cell_type": "code",
   "execution_count": 94,
   "id": "b02f97bb-03b9-47ae-8947-6ca15afc1313",
   "metadata": {},
   "outputs": [
    {
     "name": "stdout",
     "output_type": "stream",
     "text": [
      "      1 \n",
      "     1 1 \n",
      "    1 2 1 \n",
      "   1 3 3 1 \n",
      "  1 4 6 4 1 \n"
     ]
    }
   ],
   "source": [
    "from math import factorial\n",
    "n = 5\n",
    "for i in range(n):\n",
    "    for j in range(n-i+1):\n",
    "        print(end=\" \")\n",
    "    for j in range(i+1):\n",
    "        print(factorial(i)//(factorial(j)*factorial(i-j)), end=\" \")\n",
    "    print()"
   ]
  },
  {
   "cell_type": "code",
   "execution_count": 100,
   "id": "5642d7da-b5cf-440e-9b38-5fb05eaa5f3f",
   "metadata": {},
   "outputs": [
    {
     "name": "stdin",
     "output_type": "stream",
     "text": [
      " 6\n"
     ]
    },
    {
     "name": "stdout",
     "output_type": "stream",
     "text": [
      "not a prime number\n"
     ]
    }
   ],
   "source": [
    "def prime(n):\n",
    "    if n>1:\n",
    "        for i in range(2,n):\n",
    "            if n%2==0:\n",
    "                print('not a prime number')\n",
    "                break\n",
    "            else:\n",
    "                print('prime number')\n",
    "    else:\n",
    "        print('not prime')\n",
    "n=int(input())\n",
    "prime(n)\n",
    "            "
   ]
  },
  {
   "cell_type": "code",
   "execution_count": null,
   "id": "c582185d-c3e8-4cff-ba82-f175a71f5cf7",
   "metadata": {},
   "outputs": [],
   "source": []
  }
 ],
 "metadata": {
  "kernelspec": {
   "display_name": "Python 3 (ipykernel)",
   "language": "python",
   "name": "python3"
  },
  "language_info": {
   "codemirror_mode": {
    "name": "ipython",
    "version": 3
   },
   "file_extension": ".py",
   "mimetype": "text/x-python",
   "name": "python",
   "nbconvert_exporter": "python",
   "pygments_lexer": "ipython3",
   "version": "3.12.4"
  }
 },
 "nbformat": 4,
 "nbformat_minor": 5
}
